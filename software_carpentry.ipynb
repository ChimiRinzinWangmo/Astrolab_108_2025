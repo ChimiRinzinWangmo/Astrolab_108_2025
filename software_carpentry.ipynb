{
  "nbformat": 4,
  "nbformat_minor": 0,
  "metadata": {
    "colab": {
      "provenance": []
    },
    "kernelspec": {
      "name": "python3",
      "display_name": "Python 3"
    },
    "language_info": {
      "name": "python"
    }
  },
  "cells": [
    {
      "cell_type": "markdown",
      "source": [
        "1. Python Fundamentals"
      ],
      "metadata": {
        "id": "KUFYFtpMMJyu"
      }
    },
    {
      "cell_type": "code",
      "source": [
        "mass = 47.5\n",
        "age = 122\n",
        "mass = mass * 2.0\n",
        "age = age - 20\n",
        "print(mass)\n",
        "print(age)"
      ],
      "metadata": {
        "colab": {
          "base_uri": "https://localhost:8080/"
        },
        "id": "aCRGfegvMKk2",
        "outputId": "ead50850-3d3e-4576-a5f9-268410404463"
      },
      "execution_count": null,
      "outputs": [
        {
          "output_type": "stream",
          "name": "stdout",
          "text": [
            "95.0\n",
            "102\n"
          ]
        }
      ]
    },
    {
      "cell_type": "code",
      "source": [
        "first, second = 'Grace', 'Hopper'\n",
        "third, fourth = second, first\n",
        "print(third, fourth)"
      ],
      "metadata": {
        "colab": {
          "base_uri": "https://localhost:8080/"
        },
        "id": "dlFBw7JYMaLu",
        "outputId": "90215134-7968-46b6-d782-0815abac8954"
      },
      "execution_count": null,
      "outputs": [
        {
          "output_type": "stream",
          "name": "stdout",
          "text": [
            "Hopper Grace\n"
          ]
        }
      ]
    },
    {
      "cell_type": "code",
      "source": [
        "planet = 'Earth'\n",
        "apples = 5\n",
        "distance = 10.5\n",
        "print(type(planet))\n",
        "print(type(apples))\n",
        "print(type(distance))"
      ],
      "metadata": {
        "colab": {
          "base_uri": "https://localhost:8080/"
        },
        "id": "svOAEPVXMimS",
        "outputId": "3048e012-cd1a-47aa-c151-0f54f7d8bb31"
      },
      "execution_count": null,
      "outputs": [
        {
          "output_type": "stream",
          "name": "stdout",
          "text": [
            "<class 'str'>\n",
            "<class 'int'>\n",
            "<class 'float'>\n"
          ]
        }
      ]
    },
    {
      "cell_type": "markdown",
      "source": [
        "2. Analyzing Patient Data"
      ],
      "metadata": {
        "id": "aISV-linMsa4"
      }
    },
    {
      "cell_type": "code",
      "source": [
        "# What is element[-1]? What is element[-2]?\n",
        "element = 'oxygen'\n",
        "print('last character:', element[-1])\n",
        "print('before last character:', element[-2])"
      ],
      "metadata": {
        "colab": {
          "base_uri": "https://localhost:8080/"
        },
        "id": "TuVGIHV8M0Rn",
        "outputId": "457a6bee-5f68-4222-dcdd-b536b0be96f9"
      },
      "execution_count": null,
      "outputs": [
        {
          "output_type": "stream",
          "name": "stdout",
          "text": [
            "last character: n\n",
            "before last character: e\n"
          ]
        }
      ]
    },
    {
      "cell_type": "code",
      "source": [
        "# Given those answers, explain what element[1:-1] does.\n",
        "element = 'oxygen'\n",
        "print(element[1:-1])\n",
        "# element[1:-1] excludes the first and last characters"
      ],
      "metadata": {
        "colab": {
          "base_uri": "https://localhost:8080/"
        },
        "id": "isnn8JMHNQtT",
        "outputId": "6842a483-f027-4b3e-ce08-49955d3e43c7"
      },
      "execution_count": null,
      "outputs": [
        {
          "output_type": "stream",
          "name": "stdout",
          "text": [
            "xyge\n"
          ]
        }
      ]
    },
    {
      "cell_type": "code",
      "source": [
        "# How can we rewrite the slice for getting the last three characters of element, so that it works even if we assign a different string to element? Test your solution with the following strings: carpentry, clone, hi.\n",
        "element = 'carpentry'\n",
        "print(element[-3:])\n",
        "element = 'clone'\n",
        "print(element[-3:])\n",
        "element = 'hi'\n",
        "print(element[-3:])"
      ],
      "metadata": {
        "colab": {
          "base_uri": "https://localhost:8080/"
        },
        "id": "LZ6ecCnOOfyD",
        "outputId": "c9bac62c-d550-4bfb-ceab-d8e5e14d460f"
      },
      "execution_count": null,
      "outputs": [
        {
          "output_type": "stream",
          "name": "stdout",
          "text": [
            "try\n",
            "one\n",
            "hi\n"
          ]
        }
      ]
    }
  ]
}